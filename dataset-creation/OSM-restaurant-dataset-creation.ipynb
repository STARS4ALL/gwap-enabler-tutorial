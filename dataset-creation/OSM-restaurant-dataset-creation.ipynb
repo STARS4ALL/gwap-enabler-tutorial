{
 "cells": [
  {
   "cell_type": "markdown",
   "metadata": {},
   "source": [
    "# Datasets Creation: OSM restaurants in Milano"
   ]
  },
  {
   "cell_type": "markdown",
   "metadata": {},
   "source": [
    "This tutorial explain step-by-step the R script used to generate the dataset for the GWAP-enabler tutorial. The dataset consists of all the OpenStreetMap restaurants in the Milano area (Italy). \n",
    "\n",
    "By running this script you can generate the INSERT queries to populate tables **resource**, **topic** and **resource_has_topic**.\n",
    "The script consists in the following 3 steps:\n",
    "1. extracting data from OpenStreetMap\n",
    "2. cleaning and filtering data\n",
    "3. SQL query generation\n",
    "\n",
    "This script can be also customized to extract different kinds of POIs from different bounding boxes."
   ]
  },
  {
   "cell_type": "markdown",
   "metadata": {},
   "source": [
    "## STEP 1: extracting data from OSM"
   ]
  },
  {
   "cell_type": "markdown",
   "metadata": {},
   "source": [
    "First of all you need to import a set of functions to query OpenStreetMap and to retrieve data. These functions are defined in the file `osm-utilities-tutorial.r`. Load them by running the following commands:"
   ]
  },
  {
   "cell_type": "code",
   "execution_count": null,
   "metadata": {},
   "outputs": [],
   "source": [
    "source(\"osm-utilities-tutorial.r\")\n",
    "loadRPackage()\n",
    "loadRequiredPackages()"
   ]
  },
  {
   "cell_type": "markdown",
   "metadata": {},
   "source": [
    "Then you have to define the geographical area of your analysis, by setting the coordinates of the bounding box from which you want to extract data. \n",
    "The coordinates of the bounding box can be extracted from the OpenStreetMap website https://www.openstreetmap.org/export#map=16/45.5210/9.2184, which can convert the drawing of a bounding box into a set of reference coordinates. The coordinates specified in the code above covers the Milano area, but you are free to modify them, accordingly to your needs. The coordinates must be speecified in the following order: South, West, North, East."
   ]
  },
  {
   "cell_type": "code",
   "execution_count": 20,
   "metadata": {},
   "outputs": [],
   "source": [
    "swne<-c(45.4785, 9.1442, 45.5397, 9.2792)"
   ]
  },
  {
   "cell_type": "markdown",
   "metadata": {},
   "source": [
    "The other parameter you can specify is the set of restaurants' attributes you want to retrieve. You can modify the code below by listing all the attributes you are interested in. \n",
    "You can find the list of all the available attributes for a given type of resource by querying https://overpass-turbo.eu/ and analysing the data result."
   ]
  },
  {
   "cell_type": "code",
   "execution_count": 22,
   "metadata": {},
   "outputs": [],
   "source": [
    "col<-\"::id,::lat,::lon,name,cuisine,website\""
   ]
  },
  {
   "cell_type": "markdown",
   "metadata": {},
   "source": [
    "At this point you are ready to create and execute the query. The data retrieved are saved in a .csv file named `output-file.csv` and stored in memory in the variable `all.data`."
   ]
  },
  {
   "cell_type": "code",
   "execution_count": 23,
   "metadata": {},
   "outputs": [],
   "source": [
    "query<-getNodeRestaurantOverpassQueryCSV(swne= swne, columns = col)\n",
    "getOsmData(query.string = query, output.file = \"output-file.csv\",slowdown = F)\n",
    "all.data<-read.csv(\"output-file.csv\", sep = \"\\t\")"
   ]
  },
  {
   "cell_type": "markdown",
   "metadata": {},
   "source": [
    "_OPTIONAL_: If you want to modify the type of OSM POIs retrieved you have to open the file \"osm-utilities-tutorial.r\" with a text editor and modify the function `getNodeRestaurantOverpassQueryCSV`. In particular you have to change the type of OSM node retrieved by changing `node[amenity=restaurant]` with another key-value pair using the following syntax `node[key=value]`. The complete list of OSM tag can be found here: https://wiki.openstreetmap.org/wiki/Map_Features."
   ]
  },
  {
   "cell_type": "code",
   "execution_count": 24,
   "metadata": {},
   "outputs": [],
   "source": [
    "getNodeRestaurantOverpassQueryCSV <- function(coords=NULL, swne=c(), columns=c()){\n",
    "  if(is.null(coords)){\n",
    "    bbox.string = paste(swne, collapse=\",\")\n",
    "    query <- paste0(\"[out:csv(\", columns, \")];node[amenity=restaurant](\", bbox.string, \"); out;\")\n",
    "  }else{\n",
    "    coords = t(coords[,2:1])\n",
    "    bounds.string = paste(coords, collapse = \" \")\n",
    "    query <- paste0(\"[out:csv(\", columns, \")];node[amenity=restaurant](poly:\\\"\", bounds.string, \"\\\"); out;\")\n",
    "  }\n",
    "  return(query)\n",
    "}"
   ]
  },
  {
   "cell_type": "markdown",
   "metadata": {},
   "source": [
    "## STEP 2: Cleaning and filtering data"
   ]
  },
  {
   "cell_type": "markdown",
   "metadata": {},
   "source": [
    "Once data has been retrieved, a filtering and cleaning process is required to generate the desired dataset.\n",
    "The aim is to collect all the Milano restaurants with a valid name and to split data into a set of restaurants for which the type of cuisine is already known (_Ground Truth set_) and a set of restaurants for which the type of cuisine has to be discovered.  \n",
    "\n",
    "First of all, only the restaurants with a valid name are kept:"
   ]
  },
  {
   "cell_type": "code",
   "execution_count": 25,
   "metadata": {},
   "outputs": [],
   "source": [
    "filtered<-all.data[!all.data$name ==\"\",]"
   ]
  },
  {
   "cell_type": "markdown",
   "metadata": {},
   "source": [
    "By analysing the target attribute (the `cuisine` column), it is evident that some restaurants have multiple tags, separated by \";\" or \",\" or \":\". Since the GWAP-enabler can't mangae multiple classification, the simplest solution can be to keep only the first tag and delete all the others. More sophisticated solutions can be adopted and are left as exercise. "
   ]
  },
  {
   "cell_type": "code",
   "execution_count": 26,
   "metadata": {},
   "outputs": [],
   "source": [
    "filtered$cuisine<-as.character(filtered$cuisine)\n",
    "filtered$cuisine<-gsub(\"[;,:]\\\\s*[A-z]*\",\"\",filtered$cuisine)"
   ]
  },
  {
   "cell_type": "markdown",
   "metadata": {},
   "source": [
    "Next step is the definition of the output categories (types of `cuisine`) with the corresponding frequency of occurence in the dataset (prior probability). \n",
    "Here you have two options:\n",
    "* select the overall top n categories (overall ranking taken from https://taginfo.openstreetmap.org/keys/cuisine#values with the corresponding frequencies)"
   ]
  },
  {
   "cell_type": "code",
   "execution_count": 27,
   "metadata": {},
   "outputs": [],
   "source": [
    "label<- c(\"regional\", \"pizza\", \"burger\", \"italian\", \"chinese\", \"sandwich\", \"mexican\", \"japanese\", \"indian\", \"kebab\")\n",
    "prior<- c(0.114, 0.0972, 0.0824, 0.0671, 0.0493, 0.0344, 0.0268, 0.0239, 0.0213, 0.0211) \n",
    "categories<-data.frame(label, prior)"
   ]
  },
  {
   "cell_type": "markdown",
   "metadata": {},
   "source": [
    "* select the top n categories from the specific use case (only the restaurants in the area considered)"
   ]
  },
  {
   "cell_type": "code",
   "execution_count": 28,
   "metadata": {},
   "outputs": [],
   "source": [
    "table.categories<-as.data.frame(table(filtered$cuisine))\n",
    "table.categories<-table.categories[!table.categories$Var1==\"\",]\n",
    "table.categories<-table.categories[with(table.categories, order(-Freq)), ]\n",
    "table.categories$prior<-round(table.categories$Freq/sum(table.categories$Freq),3)\n",
    "categories<-table.categories[c(1:9), c(\"Var1\",\"prior\")]\n",
    "names(categories)<-c(\"label\", \"prior\")"
   ]
  },
  {
   "cell_type": "markdown",
   "metadata": {},
   "source": [
    "Using the set of output categories defined, you can split the dataset in two sets: \n",
    "* _Ground Truth restaurant (`gt`)_: restaurants already labelled with one of the selected categories     \n",
    "* _Restaurant to be classified (`to.classify`)_: restaurants with no value for the 'cuisine' attribute\n",
    "\n",
    "All the restaurants are also store together in the `resource` variable to simplify the subsequent operations."
   ]
  },
  {
   "cell_type": "code",
   "execution_count": 29,
   "metadata": {},
   "outputs": [],
   "source": [
    "gt<-filtered[filtered$cuisine %in% categories$label, ]\n",
    "to.classify<-filtered[! filtered$X.id %in% gt$X.id & filtered$cuisine ==\"\", ]\n",
    "resource<-gt\n",
    "resource<-rbind(resource, to.classify)"
   ]
  },
  {
   "cell_type": "markdown",
   "metadata": {},
   "source": [
    "## STEP 3: SQL query generation"
   ]
  },
  {
   "cell_type": "markdown",
   "metadata": {},
   "source": [
    "The following part of the script generates the SQL INSERT query to populate the database. The resulting queries are exported in .sql files.\n",
    "\n",
    "* INSERT query to populate the table <b>resource</b>. All the queries are saved in file `2_Insert_Resource.sql`"
   ]
  },
  {
   "cell_type": "code",
   "execution_count": 30,
   "metadata": {},
   "outputs": [],
   "source": [
    "query.resource<-character()\n",
    "query.resource<-c(\"LOCK TABLES resource WRITE;\")\n",
    "query.resource<-c(query.resource, \"INSERT INTO resource (refId, lat, `long`, orderBy, label, url) VALUES\")\n",
    "    \n",
    "for(i in 1:nrow(resource)){\n",
    "  if(i != nrow(resource)){\n",
    "    q<-paste0(\"('http://www.openstreetmap.org/node/\", resource[i,]$X.id, \"',\" , resource[i,]$X.lat, \",\" , resource[i,]$X.lon, \", rand(),'\", gsub(\"'\",\"''\",resource[i,]$name), \"', ''),\")\n",
    "    query.resource<-c(query.resource, q)\n",
    "  }else{\n",
    "    q<-paste0(\"('http://www.openstreetmap.org/node/\", resource[i,]$X.id, \"',\" , resource[i,]$X.lat, \",\" , resource[i,]$X.lon, \", rand(),'\", gsub(\"'\",\"''\",resource[i,]$name), \"', '');\")\n",
    "    query.resource<-c(query.resource, q)\n",
    "  }\n",
    "}    \n",
    "    \n",
    "query.resource<-c(query.resource, \"UNLOCK TABLES;\")\n",
    "write(query.resource, file=\"2_Insert_Resource.sql\")  # all the resource INSERT queries"
   ]
  },
  {
   "cell_type": "markdown",
   "metadata": {},
   "source": [
    "* INSERT query to populate the table <b>topic</b>. All the queries are saved in file `3_Insert_Topic.sql`"
   ]
  },
  {
   "cell_type": "code",
   "execution_count": null,
   "metadata": {},
   "outputs": [],
   "source": [
    "query.topic<-character()\n",
    "query.topic<-c(\"LOCK TABLES topic WRITE;\")\n",
    "query.topic<-c(query.topic, \"INSERT INTO topic (refId, value, label, weight, url) VALUES\")\n",
    "    \n",
    "for(ct in 1:nrow(categories)){\n",
    "   if(ct != nrow(categories)){\n",
    "      qt<-paste0(\"('\", categories$label[ct], \"','\" , categories$label[ct], \"','\" , categories$label[ct], \"',\", categories$prior[ct], \", ''),\")\n",
    "      query.topic<-c(query.topic, qt)\n",
    "   }else{\n",
    "      qt<-paste0(\"('\", categories$label[ct], \"','\" , categories$label[ct], \"','\" , categories$label[ct], \"',\", categories$prior[ct], \", '');\")\n",
    "      query.topic<-c(query.topic, qt)\n",
    "  }\n",
    " }\n",
    "query.topic<-c(query.topic, \"UNLOCK TABLES;\")\n",
    "write(query.topic, file=\"3_Insert_Topic.sql\") # all the topic INSERT queries"
   ]
  },
  {
   "cell_type": "markdown",
   "metadata": {},
   "source": [
    "* INSERT query to populate the table <b>resource_has_topic</b>. All the queries are saved in file `4_Insert_Resource_has_Topic.sql`. GT resources have score 2 for the assigned topic, whereas the resources to be classified are initialized with score 0 for all the possible topics."
   ]
  },
  {
   "cell_type": "code",
   "execution_count": 32,
   "metadata": {},
   "outputs": [],
   "source": [
    "#c.1) GT resources: only one row of the correspondig topic with score 2\n",
    "query.rht.gt<-character()\n",
    "query.rht.gt<-c(\"LOCK TABLES resource_has_topic WRITE, resource READ, topic READ;\")\n",
    "      \n",
    "for(t in 1:nrow(gt)){\n",
    "  qgt<-paste0(\"INSERT INTO resource_has_topic (idResource, idTopic, score) VALUES ((SELECT idResource FROM resource WHERE refId = 'http://www.openstreetmap.org/node/\", gt$X.id[t], \"'), (SELECT idTopic FROM topic WHERE refId ='\", gt$cuisine[t], \"'), 2);\")\n",
    "  query.rht.gt<-c(query.rht.gt,qgt)\n",
    "}\n",
    "     \n",
    "#c.2) toClassify resources: one row for each topic with score 0\n",
    "query.rht.toclassify<-character()\n",
    "\n",
    "for(w in 1:nrow(to.classify)){\n",
    "  for(f in 1:nrow(categories)){\n",
    "     qtc<-paste0(\"INSERT INTO resource_has_topic (idResource, idTopic, score) VALUES ((SELECT idResource FROM resource WHERE refId = 'http://www.openstreetmap.org/node/\", to.classify$X.id[w], \"'), (SELECT idTopic FROM topic WHERE refId ='\", categories$label[f], \"'), 0);\")\n",
    "     query.rht.toclassify<-c(query.rht.toclassify,qtc)\n",
    "  }\n",
    "}\n",
    "query.rht.toclassify<-c(query.rht.toclassify, \"UNLOCK TABLES;\")\n",
    "      \n",
    "#save both the GT and toClassify resource_has_topic in a single file\n",
    "query.rht<-c(query.rht.gt, query.rht.toclassify)\n",
    "write(query.rht, file=\"4_Insert_Resource_has_Topic.sql\")  # all the resource_has_topic INSERT queries "
   ]
  },
  {
   "cell_type": "markdown",
   "metadata": {},
   "source": [
    "Now the datasets to populate your database are ready! "
   ]
  }
 ],
 "metadata": {
  "kernelspec": {
   "display_name": "R",
   "language": "R",
   "name": "r"
  },
  "language_info": {
   "codemirror_mode": "r",
   "file_extension": ".r",
   "mimetype": "text/x-r-source",
   "name": "R",
   "pygments_lexer": "r",
   "version": "3.4.1"
  }
 },
 "nbformat": 4,
 "nbformat_minor": 2
}
